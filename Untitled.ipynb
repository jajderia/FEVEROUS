{
 "cells": [
  {
   "cell_type": "code",
   "execution_count": 5,
   "id": "da4a6e67",
   "metadata": {},
   "outputs": [],
   "source": [
    "import json"
   ]
  },
  {
   "cell_type": "code",
   "execution_count": 41,
   "id": "fb4c4ad3",
   "metadata": {},
   "outputs": [
    {
     "name": "stdout",
     "output_type": "stream",
     "text": [
      "10\n"
     ]
    }
   ],
   "source": [
    "count = 0\n",
    "thingy = []\n",
    "\n",
    "with open('tentrain.jsonl', 'r') as reader:\n",
    "    for line in reader:\n",
    "        thingy.append(line)\n",
    "        count += 1\n",
    "    print(count)"
   ]
  },
  {
   "cell_type": "code",
   "execution_count": 37,
   "id": "c7650d58",
   "metadata": {},
   "outputs": [
    {
     "name": "stdout",
     "output_type": "stream",
     "text": [
      "['{\"evidence\": [{\"content\": [\"Michael Folivi_cell_1_2_0\", \"Michael Folivi_cell_1_7_0\", \"Michael Folivi_cell_1_8_0\", \"Michael Folivi_cell_1_9_0\", \"Michael Folivi_cell_1_12_0\"], \"context\": {\"Michael Folivi_cell_1_2_0\": [\"Michael Folivi_title\", \"Michael Folivi_section_4\", \"Michael Folivi_header_cell_1_0_0\"], \"Michael Folivi_cell_1_7_0\": [\"Michael Folivi_title\", \"Michael Folivi_section_4\", \"Michael Folivi_header_cell_1_0_0\"], \"Michael Folivi_cell_1_8_0\": [\"Michael Folivi_title\", \"Michael Folivi_section_4\", \"Michael Folivi_header_cell_1_0_0\"], \"Michael Folivi_cell_1_9_0\": [\"Michael Folivi_title\", \"Michael Folivi_section_4\", \"Michael Folivi_header_cell_1_0_0\"], \"Michael Folivi_cell_1_12_0\": [\"Michael Folivi_title\", \"Michael Folivi_section_4\", \"Michael Folivi_header_cell_1_0_0\"]}}, {\"content\": [\"Michael Folivi_cell_0_13_1\", \"Michael Folivi_cell_0_14_1\", \"Michael Folivi_cell_0_15_1\", \"Michael Folivi_cell_0_16_1\", \"Michael Folivi_cell_0_18_1\"], \"context\": {\"Michael Folivi_cell_0_13_1\": [\"Michael Folivi_title\", \"Michael Folivi_header_cell_0_13_0\", \"Michael Folivi_header_cell_0_11_0\"], \"Michael Folivi_cell_0_14_1\": [\"Michael Folivi_title\", \"Michael Folivi_header_cell_0_14_0\", \"Michael Folivi_header_cell_0_11_0\"], \"Michael Folivi_cell_0_15_1\": [\"Michael Folivi_title\", \"Michael Folivi_header_cell_0_15_0\", \"Michael Folivi_header_cell_0_11_0\"], \"Michael Folivi_cell_0_16_1\": [\"Michael Folivi_title\", \"Michael Folivi_header_cell_0_16_0\", \"Michael Folivi_header_cell_0_11_0\"], \"Michael Folivi_cell_0_18_1\": [\"Michael Folivi_title\", \"Michael Folivi_header_cell_0_18_0\", \"Michael Folivi_header_cell_0_11_0\"]}}], \"id\": 24435, \"claim\": \"Michael Folivi competed with ten teams from 2016 to 2021, appearing in 54 games and making seven goals in total.\", \"label\": \"REFUTES\", \"annotator_operations\": [{\"operation\": \"start\", \"value\": \"start\", \"time\": \"0\"}, {\"operation\": \"Now on\", \"value\": \"?search=\", \"time\": \"0.78\"}, {\"operation\": \"search\", \"value\": \"Michael Folivi\", \"time\": \"78.101\"}, {\"operation\": \"Now on\", \"value\": \"Michael Folivi\", \"time\": \"78.822\"}, {\"operation\": \"Highlighting\", \"value\": \"Michael Folivi_cell_1_2_0\", \"time\": \"96.202\"}, {\"operation\": \"Highlighting\", \"value\": \"Michael Folivi_cell_1_7_0\", \"time\": \"96.9\"}, {\"operation\": \"Highlighting\", \"value\": \"Michael Folivi_cell_1_8_0\", \"time\": \"97.429\"}, {\"operation\": \"Highlighting\", \"value\": \"Michael Folivi_cell_1_9_0\", \"time\": \"97.994\"}, {\"operation\": \"Highlighting\", \"value\": \"Michael Folivi_cell_1_12_0\", \"time\": \"99.02\"}, {\"operation\": \"Highlighting\", \"value\": \"Michael Folivi_cell_0_13_1\", \"time\": \"106.108\"}, {\"operation\": \"Highlighting\", \"value\": \"Michael Folivi_cell_0_14_1\", \"time\": \"106.702\"}, {\"operation\": \"Highlighting\", \"value\": \"Michael Folivi_cell_0_15_1\", \"time\": \"107.423\"}, {\"operation\": \"Highlighting\", \"value\": \"Michael Folivi_cell_0_16_1\", \"time\": \"108.186\"}, {\"operation\": \"Highlighting\", \"value\": \"Michael Folivi_cell_0_17_1\", \"time\": \"108.788\"}, {\"operation\": \"Highlighting\", \"value\": \"Michael Folivi_header_cell_0_17_0\", \"time\": \"108.8\"}, {\"operation\": \"Highlighting\", \"value\": \"Michael Folivi_cell_0_18_1\", \"time\": \"109.469\"}, {\"operation\": \"Highlighting deleted\", \"value\": \"Michael Folivi_cell_0_17_1\", \"time\": \"124.28\"}, {\"operation\": \"Highlighting deleted\", \"value\": \"Michael Folivi_header_cell_0_17_0\", \"time\": \"124.293\"}, {\"operation\": \"finish\", \"value\": \"finish\", \"time\": \"141.351\"}]}\\n', '{\"evidence\": [{\"content\": [\"Asiatic Society of Bangladesh_sentence_4\", \"Asiatic Society of Bangladesh_sentence_0\", \"Asiatic Society of Bangladesh_sentence_1\", \"Asiatic Society of Bangladesh_sentence_2\"], \"context\": {\"Asiatic Society of Bangladesh_sentence_4\": [\"Asiatic Society of Bangladesh_title\"], \"Asiatic Society of Bangladesh_sentence_0\": [\"Asiatic Society of Bangladesh_title\"], \"Asiatic Society of Bangladesh_sentence_1\": [\"Asiatic Society of Bangladesh_title\"], \"Asiatic Society of Bangladesh_sentence_2\": [\"Asiatic Society of Bangladesh_title\"]}}], \"id\": 14802, \"claim\": \"Asiatic Society of Bangladesh(housed in Nimtali) is a non political organization renamed in 1972, Ahmed Hasan Dani played an important role in its founding.\", \"label\": \"SUPPORTS\", \"annotator_operations\": [{\"operation\": \"start\", \"value\": \"start\", \"time\": \"0\"}, {\"operation\": \"Now on\", \"value\": \"?search=\", \"time\": \"0.865\"}, {\"operation\": \"search\", \"value\": \"Asiatic Society of Bangladesh\", \"time\": \"13.397\"}, {\"operation\": \"Now on\", \"value\": \"Asiatic Society of Bangladesh\", \"time\": \"14.306\"}, {\"operation\": \"Highlighting\", \"value\": \"Asiatic Society of Bangladesh_sentence_4\", \"time\": \"24.056\"}, {\"operation\": \"Highlighting\", \"value\": \"Asiatic Society of Bangladesh_sentence_0\", \"time\": \"30.346\"}, {\"operation\": \"Highlighting\", \"value\": \"Asiatic Society of Bangladesh_sentence_1\", \"time\": \"37.082\"}, {\"operation\": \"Highlighting\", \"value\": \"Asiatic Society of Bangladesh_sentence_2\", \"time\": \"40.733\"}, {\"operation\": \"finish\", \"value\": \"finish\", \"time\": \"47.334\"}]}\\n', '{\"evidence\": [{\"content\": [\"Lindfield railway station_sentence_5\", \"Lindfield railway station_cell_0_1_2\", \"Lindfield railway station_cell_0_2_1\"], \"context\": {\"Lindfield railway station_sentence_5\": [\"Lindfield railway station_title\", \"Lindfield railway station_section_1\"], \"Lindfield railway station_cell_0_1_2\": [\"Lindfield railway station_title\", \"Lindfield railway station_section_1\", \"Lindfield railway station_header_cell_0_1_0\"], \"Lindfield railway station_cell_0_2_1\": [\"Lindfield railway station_title\", \"Lindfield railway station_section_1\", \"Lindfield railway station_header_cell_0_1_0\"]}}], \"id\": 28540, \"claim\": \"Lindfield railway station has 3 bus routes, in which the first platform services routes to Emu plains via Central and Richmond and Hornbys via Strathfield.\", \"label\": \"SUPPORTS\", \"annotator_operations\": [{\"operation\": \"start\", \"value\": \"start\", \"time\": \"0\"}, {\"operation\": \"Now on\", \"value\": \"?search=\", \"time\": \"0.526\"}, {\"operation\": \"search\", \"value\": \"Lindfield railway station\", \"time\": \"9.25\"}, {\"operation\": \"Now on\", \"value\": \"Lindfield railway station\", \"time\": \"9.757\"}, {\"operation\": \"Page search\", \"value\": \"3 bus route\", \"time\": \"28.998\"}, {\"operation\": \"Page search\", \"value\": \"route\", \"time\": \"31.951\"}, {\"operation\": \"Highlighting\", \"value\": \"Lindfield railway station_sentence_5\", \"time\": \"51.33\"}, {\"operation\": \"Highlighting\", \"value\": \"Lindfield railway station_cell_0_1_2\", \"time\": \"61.715\"}, {\"operation\": \"Highlighting\", \"value\": \"Lindfield railway station_cell_0_2_1\", \"time\": \"69.508\"}, {\"operation\": \"finish\", \"value\": \"finish\", \"time\": \"123.12\"}]}\\n', '{\"evidence\": [{\"content\": [\"Mukaradeeb_sentence_1\", \"Mukaradeeb_cell_0_3_1\", \"Mukaradeeb_cell_0_2_1\"], \"context\": {\"Mukaradeeb_sentence_1\": [\"Mukaradeeb_title\"], \"Mukaradeeb_cell_0_3_1\": [\"Mukaradeeb_title\", \"Mukaradeeb_header_cell_0_3_0\", \"Mukaradeeb_header_cell_0_0_0\"], \"Mukaradeeb_cell_0_2_1\": [\"Mukaradeeb_title\", \"Mukaradeeb_header_cell_0_2_0\", \"Mukaradeeb_header_cell_0_0_0\"]}}], \"id\": 71874, \"claim\": \"Mukaradeeb(\\'Wolf\\'s Den\\') is a city in Iraq near the Syrian border, in the district of Al-Qa\\'im, province of Al-Anbar.\", \"label\": \"SUPPORTS\", \"annotator_operations\": [{\"operation\": \"start\", \"value\": \"start\", \"time\": \"0\"}, {\"operation\": \"Now on\", \"value\": \"?search=\", \"time\": \"0.962\"}, {\"operation\": \"search\", \"value\": \"Mukaradeeb\", \"time\": \"9.524\"}, {\"operation\": \"Now on\", \"value\": \"Mukaradeeb\", \"time\": \"10.752\"}, {\"operation\": \"Highlighting\", \"value\": \"Mukaradeeb_sentence_1\", \"time\": \"13.998\"}, {\"operation\": \"Highlighting\", \"value\": \"Mukaradeeb_cell_0_3_1\", \"time\": \"28.724\"}, {\"operation\": \"Highlighting\", \"value\": \"Mukaradeeb_cell_0_2_1\", \"time\": \"32.485\"}, {\"operation\": \"finish\", \"value\": \"finish\", \"time\": \"146.465\"}]}\\n', '{\"evidence\": [{\"content\": [\"Herbivore men_sentence_1\", \"Herbivore men_sentence_4\", \"Aging of Japan_sentence_8\"], \"context\": {\"Herbivore men_sentence_1\": [\"Herbivore men_title\"], \"Herbivore men_sentence_4\": [\"Herbivore men_title\"], \"Aging of Japan_sentence_8\": [\"Aging of Japan_title\"]}}], \"id\": 70296, \"claim\": \"Herbivore men was coined by Maki Fukasawa and was a negative connotation as as young men who had lost their \\\\\"manliness\\\\\" and were responsible for Japan\\'s declining birth rate which is actually due to high life expectancy and low fertility rate  among other things.\", \"label\": \"SUPPORTS\", \"annotator_operations\": [{\"operation\": \"start\", \"value\": \"start\", \"time\": \"0\"}, {\"operation\": \"Now on\", \"value\": \"?search=\", \"time\": \"2.026\"}, {\"operation\": \"search\", \"value\": \"Herbivore men\", \"time\": \"184.507\"}, {\"operation\": \"Now on\", \"value\": \"Herbivore men\", \"time\": \"185.92\"}, {\"operation\": \"Highlighting\", \"value\": \"Herbivore men_sentence_1\", \"time\": \"472.805\"}, {\"operation\": \"Highlighting\", \"value\": \"Herbivore men_sentence_4\", \"time\": \"481.428\"}, {\"operation\": \"hyperlink\", \"value\": \"Japan\\'s declining birth rate\", \"time\": \"491.064\"}, {\"operation\": \"Now on\", \"value\": \"Aging of Japan\", \"time\": \"492.553\"}, {\"operation\": \"Highlighting\", \"value\": \"Aging of Japan_sentence_8\", \"time\": \"520.154\"}, {\"operation\": \"finish\", \"value\": \"finish\", \"time\": \"527.155\"}]}\\n', '{\"evidence\": [{\"content\": [\"Shulin District_sentence_2\"], \"context\": {\"Shulin District_sentence_2\": [\"Shulin District_title\"]}}], \"id\": 16578, \"claim\": \"Shulin, a 33.1288 km (12.7911 sq mi) land located in New Taipei City, China, a country in East Asia, has a total population of 183,946 in December 2018.\", \"label\": \"REFUTES\", \"annotator_operations\": [{\"operation\": \"start\", \"value\": \"start\", \"time\": \"0\"}, {\"operation\": \"Now on\", \"value\": \"?search=\", \"time\": \"0.87\"}, {\"operation\": \"search\", \"value\": \"Shulini\", \"time\": \"22.725\"}, {\"operation\": \"Now on\", \"value\": \"Shulini\", \"time\": \"23.634\"}, {\"operation\": \"search\", \"value\": \"Shulin District\", \"time\": \"38.789\"}, {\"operation\": \"Now on\", \"value\": \"Shulin District\", \"time\": \"39.896\"}, {\"operation\": \"Highlighting\", \"value\": \"Shulin District_header_cell_0_6_0\", \"time\": \"57.77\"}, {\"operation\": \"Highlighting\", \"value\": \"Shulin District_header_cell_0_7_0\", \"time\": \"58.495\"}, {\"operation\": \"Highlighting\", \"value\": \"Shulin District_cell_0_7_1\", \"time\": \"59.526\"}, {\"operation\": \"Highlighting\", \"value\": \"Shulin District_header_cell_0_7_0\", \"time\": \"59.543\"}, {\"operation\": \"Highlighting\", \"value\": \"Shulin District_header_cell_0_6_0\", \"time\": \"59.547\"}, {\"operation\": \"Highlighting\", \"value\": \"Shulin District_sentence_2\", \"time\": \"84.929\"}, {\"operation\": \"Highlighting deleted\", \"value\": \"Shulin District_cell_0_7_1\", \"time\": \"91.287\"}, {\"operation\": \"Highlighting deleted\", \"value\": \"Shulin District_header_cell_0_7_0\", \"time\": \"91.3\"}, {\"operation\": \"Highlighting deleted\", \"value\": \"Shulin District_header_cell_0_6_0\", \"time\": \"91.304\"}, {\"operation\": \"finish\", \"value\": \"finish\", \"time\": \"113.536\"}]}\\n', '{\"evidence\": [{\"content\": [\"2006â€“07 San Jose Sharks season_sentence_0\", \"2006â€“07 San Jose Sharks season_table_caption_1\", \"2006â€“07 San Jose Sharks season_cell_1_2_2\", \"2006â€“07 San Jose Sharks season_cell_1_2_9\", \"2006â€“07 San Jose Sharks season_cell_1_1_2\", \"2006â€“07 San Jose Sharks season_cell_1_1_9\"], \"context\": {\"2006â€“07 San Jose Sharks season_sentence_0\": [\"2006â€“07 San Jose Sharks season_title\"], \"2006â€“07 San Jose Sharks season_table_caption_1\": [\"2006â€“07 San Jose Sharks season_title\", \"2006â€“07 San Jose Sharks season_section_1\", \"2006â€“07 San Jose Sharks season_section_2\"], \"2006â€“07 San Jose Sharks season_cell_1_2_2\": [\"2006â€“07 San Jose Sharks season_title\", \"2006â€“07 San Jose Sharks season_section_1\", \"2006â€“07 San Jose Sharks season_section_2\", \"2006â€“07 San Jose Sharks season_header_cell_1_0_2\"], \"2006â€“07 San Jose Sharks season_cell_1_2_9\": [\"2006â€“07 San Jose Sharks season_title\", \"2006â€“07 San Jose Sharks season_section_1\", \"2006â€“07 San Jose Sharks season_section_2\", \"2006â€“07 San Jose Sharks season_header_cell_1_0_9\"], \"2006â€“07 San Jose Sharks season_cell_1_1_2\": [\"2006â€“07 San Jose Sharks season_title\", \"2006â€“07 San Jose Sharks season_section_1\", \"2006â€“07 San Jose Sharks season_section_2\", \"2006â€“07 San Jose Sharks season_header_cell_1_0_2\"], \"2006â€“07 San Jose Sharks season_cell_1_1_9\": [\"2006â€“07 San Jose Sharks season_title\", \"2006â€“07 San Jose Sharks season_section_1\", \"2006â€“07 San Jose Sharks season_section_2\", \"2006â€“07 San Jose Sharks season_header_cell_1_0_9\"]}}], \"id\": 76062, \"claim\": \"The 2006-07 San Jose Sharks season, the 14th season of operation (13th season of play) for the National Hockey League (NHL) franchise, scored the most points in the Pacific Division.\", \"label\": \"REFUTES\", \"annotator_operations\": [{\"operation\": \"start\", \"value\": \"start\", \"time\": \"0\"}, {\"operation\": \"Now on\", \"value\": \"?search=\", \"time\": \"3.346\"}, {\"operation\": \"search\", \"value\": \"2006-07 San Jose Sharks season\", \"time\": \"10.943\"}, {\"operation\": \"Now on\", \"value\": \"2006â€“07 San Jose Sharks season\", \"time\": \"15.585\"}, {\"operation\": \"Highlighting\", \"value\": \"2006â€“07 San Jose Sharks season_sentence_0\", \"time\": \"21.36\"}, {\"operation\": \"Highlighting\", \"value\": \"2006â€“07 San Jose Sharks season_table_caption_1\", \"time\": \"44.865\"}, {\"operation\": \"Highlighting\", \"value\": \"2006â€“07 San Jose Sharks season_cell_1_2_2\", \"time\": \"48.523\"}, {\"operation\": \"Highlighting\", \"value\": \"2006â€“07 San Jose Sharks season_cell_1_2_9\", \"time\": \"49.916\"}, {\"operation\": \"Highlighting\", \"value\": \"2006â€“07 San Jose Sharks season_cell_1_1_2\", \"time\": \"53.667\"}, {\"operation\": \"Highlighting\", \"value\": \"2006â€“07 San Jose Sharks season_cell_1_1_9\", \"time\": \"54.741\"}, {\"operation\": \"finish\", \"value\": \"finish\", \"time\": \"70.527\"}]}\\n', '{\"evidence\": [{\"content\": [\"Oyedaea_cell_0_7_0\", \"Oyedaea_cell_0_7_1\", \"Oyedaea_cell_0_6_0\", \"Oyedaea_cell_0_6_1\"], \"context\": {\"Oyedaea_cell_0_7_0\": [\"Oyedaea_title\", \"Oyedaea_header_cell_0_1_0\", \"Oyedaea_header_cell_0_0_0\"], \"Oyedaea_cell_0_7_1\": [\"Oyedaea_title\", \"Oyedaea_header_cell_0_1_0\", \"Oyedaea_header_cell_0_0_0\"], \"Oyedaea_cell_0_6_0\": [\"Oyedaea_title\", \"Oyedaea_header_cell_0_1_0\", \"Oyedaea_header_cell_0_0_0\"], \"Oyedaea_cell_0_6_1\": [\"Oyedaea_title\", \"Oyedaea_header_cell_0_1_0\", \"Oyedaea_header_cell_0_0_0\"]}}], \"id\": 15702, \"claim\": \"Oyedaea is part of the family Asteraceae in the order Asterales.\", \"label\": \"SUPPORTS\", \"annotator_operations\": [{\"operation\": \"start\", \"value\": \"start\", \"time\": \"0\"}, {\"operation\": \"Now on\", \"value\": \"?search=\", \"time\": \"2.072\"}, {\"operation\": \"search\", \"value\": \"Oyedaea\", \"time\": \"8.454\"}, {\"operation\": \"Now on\", \"value\": \"Oyedaea\", \"time\": \"10.564\"}, {\"operation\": \"Highlighting\", \"value\": \"Oyedaea_cell_0_7_0\", \"time\": \"13.405\"}, {\"operation\": \"Highlighting\", \"value\": \"Oyedaea_cell_0_7_1\", \"time\": \"15.551\"}, {\"operation\": \"Highlighting\", \"value\": \"Oyedaea_cell_0_6_0\", \"time\": \"17.1\"}, {\"operation\": \"Highlighting\", \"value\": \"Oyedaea_cell_0_6_1\", \"time\": \"18.024\"}, {\"operation\": \"finish\", \"value\": \"finish\", \"time\": \"26.534\"}]}\\n', '{\"evidence\": [{\"content\": [\"Saunders College of Business_sentence_0\", \"Saunders College of Business_cell_0_2_1\", \"Saunders College of Business_cell_0_4_1\"], \"context\": {\"Saunders College of Business_sentence_0\": [\"Saunders College of Business_title\"], \"Saunders College of Business_cell_0_2_1\": [\"Saunders College of Business_title\", \"Saunders College of Business_header_cell_0_2_0\"], \"Saunders College of Business_cell_0_4_1\": [\"Saunders College of Business_title\", \"Saunders College of Business_header_cell_0_4_0\"]}}], \"id\": 55963, \"claim\": \"Saunders College of Business, which is accredited by the Association to Advance Collegiate Schools of Business International, is one of the colleges of Rochester Institute of Technology established in 1910 and is currently under the supervision of Dean Jacqueline R. Mozrall.\", \"label\": \"SUPPORTS\", \"annotator_operations\": [{\"operation\": \"start\", \"value\": \"start\", \"time\": \"0\"}, {\"operation\": \"Now on\", \"value\": \"?search=\", \"time\": \"1.394\"}, {\"operation\": \"search\", \"value\": \"Saunders College of Business\", \"time\": \"9.942\"}, {\"operation\": \"Now on\", \"value\": \"Saunders College of Business\", \"time\": \"10.785\"}, {\"operation\": \"Highlighting\", \"value\": \"Saunders College of Business_sentence_0\", \"time\": \"32.07\"}, {\"operation\": \"Highlighting\", \"value\": \"Saunders College of Business_cell_0_2_1\", \"time\": \"46.92\"}, {\"operation\": \"Highlighting\", \"value\": \"Saunders College of Business_cell_0_4_1\", \"time\": \"50.985\"}, {\"operation\": \"finish\", \"value\": \"finish\", \"time\": \"58.259\"}]}\\n', '{\"evidence\": [{\"content\": [\"2018 Mexican general election_item_11_11\", \"2018 Mexican general election_cell_11_1_1\", \"2018 Mexican general election_cell_11_1_2\", \"2018 Mexican general election_cell_11_1_5\", \"2018 Mexican general election_cell_11_2_1\", \"2018 Mexican general election_cell_11_2_5\"], \"context\": {\"2018 Mexican general election_item_11_11\": [\"2018 Mexican general election_title\", \"2018 Mexican general election_section_20\", \"2018 Mexican general election_section_26\", \"2018 Mexican general election_section_35\"], \"2018 Mexican general election_cell_11_1_1\": [\"2018 Mexican general election_title\", \"2018 Mexican general election_section_20\", \"2018 Mexican general election_section_26\", \"2018 Mexican general election_section_35\", \"2018 Mexican general election_header_cell_11_0_0\"], \"2018 Mexican general election_cell_11_1_2\": [\"2018 Mexican general election_title\", \"2018 Mexican general election_section_20\", \"2018 Mexican general election_section_26\", \"2018 Mexican general election_section_35\", \"2018 Mexican general election_header_cell_11_0_2\"], \"2018 Mexican general election_cell_11_1_5\": [\"2018 Mexican general election_title\", \"2018 Mexican general election_section_20\", \"2018 Mexican general election_section_26\", \"2018 Mexican general election_section_35\", \"2018 Mexican general election_header_cell_11_0_5\"], \"2018 Mexican general election_cell_11_2_1\": [\"2018 Mexican general election_title\", \"2018 Mexican general election_section_20\", \"2018 Mexican general election_section_26\", \"2018 Mexican general election_section_35\", \"2018 Mexican general election_header_cell_11_0_0\"], \"2018 Mexican general election_cell_11_2_5\": [\"2018 Mexican general election_title\", \"2018 Mexican general election_section_20\", \"2018 Mexican general election_section_26\", \"2018 Mexican general election_section_35\", \"2018 Mexican general election_header_cell_11_0_5\"]}}], \"id\": 20067, \"claim\": \"Mauricio Vila Dosal of the National Action Party overwhelmingly won the race for Governor of YucatÃ¡n during the 2018 Mexican general election.\", \"label\": \"REFUTES\", \"annotator_operations\": [{\"operation\": \"start\", \"value\": \"start\", \"time\": \"0\"}, {\"operation\": \"Now on\", \"value\": \"undefined\", \"time\": \"0\"}, {\"operation\": \"search\", \"value\": \"Contains...Mauricio Vila Dosal\", \"time\": \"0.016\"}, {\"operation\": \"Now on\", \"value\": \"undefined\", \"time\": \"0.017\"}, {\"operation\": \"hyperlink\", \"value\": \"mauricio villa dorsal\", \"time\": \"0.023\"}, {\"operation\": \"Now on\", \"value\": \"undefined\", \"time\": \"0.024\"}, {\"operation\": \"search\", \"value\": \"Contains...Mauricio Vila Dosal\", \"time\": \"0.03\"}, {\"operation\": \"Now on\", \"value\": \"undefined\", \"time\": \"0.031\"}, {\"operation\": \"search\", \"value\": \"2018 Mexican general election\", \"time\": \"0.051\"}, {\"operation\": \"Now on\", \"value\": \"2018 Mexican general election\", \"time\": \"0.052\"}, {\"operation\": \"hyperlink\", \"value\": \"6.4.9 YucatÃ¡n 2018 Mexican general election_section_35\", \"time\": \"0.088\"}, {\"operation\": \"Highlighting\", \"value\": \"2018 Mexican general election_item_11_11\", \"time\": \"0.096\"}, {\"operation\": \"Highlighting\", \"value\": \"2018 Mexican general election_cell_11_1_1\", \"time\": \"0.098\"}, {\"operation\": \"Highlighting\", \"value\": \"2018 Mexican general election_cell_11_1_2\", \"time\": \"0.099\"}, {\"operation\": \"Highlighting\", \"value\": \"2018 Mexican general election_cell_11_1_5\", \"time\": \"0.101\"}, {\"operation\": \"finish\", \"value\": \"finish\", \"time\": \"0.137\"}, {\"operation\": \"Now on\", \"value\": \"2018 Mexican general election\", \"time\": \"1619729884.798\"}, {\"operation\": \"Highlighting\", \"value\": \"2018 Mexican general election_cell_11_2_1\", \"time\": \"1619729899.792\"}, {\"operation\": \"Highlighting\", \"value\": \"2018 Mexican general election_cell_11_2_5\", \"time\": \"1619729902.327\"}, {\"operation\": \"finish\", \"value\": \"finish\", \"time\": \"1619729903.895\"}]}\\n']\n"
     ]
    }
   ],
   "source": [
    "print(thingy)\n",
    "\n",
    "thongy = dict({})\n",
    "\n",
    "for line in thingy:\n",
    "    thongy\n",
    "    "
   ]
  },
  {
   "cell_type": "code",
   "execution_count": 25,
   "id": "fb7a95c4",
   "metadata": {},
   "outputs": [
    {
     "name": "stdout",
     "output_type": "stream",
     "text": [
      "1\n",
      "2\n",
      "3\n",
      "4\n",
      "5\n",
      "6\n",
      "7\n",
      "8\n",
      "9\n",
      "10\n",
      "11\n",
      "12\n",
      "13\n",
      "14\n",
      "15\n"
     ]
    },
    {
     "ename": "UnicodeDecodeError",
     "evalue": "'charmap' codec can't decode byte 0x8d in position 7834: character maps to <undefined>",
     "output_type": "error",
     "traceback": [
      "\u001b[1;31m---------------------------------------------------------------------------\u001b[0m",
      "\u001b[1;31mUnicodeDecodeError\u001b[0m                        Traceback (most recent call last)",
      "\u001b[1;32m<ipython-input-25-065a26f1b670>\u001b[0m in \u001b[0;36m<module>\u001b[1;34m\u001b[0m\n\u001b[0;32m      3\u001b[0m \u001b[0mcount\u001b[0m \u001b[1;33m=\u001b[0m \u001b[1;36m0\u001b[0m\u001b[1;33m\u001b[0m\u001b[1;33m\u001b[0m\u001b[0m\n\u001b[0;32m      4\u001b[0m \u001b[1;33m\u001b[0m\u001b[0m\n\u001b[1;32m----> 5\u001b[1;33m \u001b[1;32mfor\u001b[0m \u001b[0mline\u001b[0m \u001b[1;32min\u001b[0m \u001b[0mtraining\u001b[0m\u001b[1;33m:\u001b[0m\u001b[1;33m\u001b[0m\u001b[1;33m\u001b[0m\u001b[0m\n\u001b[0m\u001b[0;32m      6\u001b[0m     \u001b[0mcount\u001b[0m \u001b[1;33m+=\u001b[0m \u001b[1;36m1\u001b[0m\u001b[1;33m\u001b[0m\u001b[1;33m\u001b[0m\u001b[0m\n\u001b[0;32m      7\u001b[0m     \u001b[0mprint\u001b[0m\u001b[1;33m(\u001b[0m\u001b[0mcount\u001b[0m\u001b[1;33m)\u001b[0m\u001b[1;33m\u001b[0m\u001b[1;33m\u001b[0m\u001b[0m\n",
      "\u001b[1;32m~\\anaconda3\\lib\\encodings\\cp1252.py\u001b[0m in \u001b[0;36mdecode\u001b[1;34m(self, input, final)\u001b[0m\n\u001b[0;32m     21\u001b[0m \u001b[1;32mclass\u001b[0m \u001b[0mIncrementalDecoder\u001b[0m\u001b[1;33m(\u001b[0m\u001b[0mcodecs\u001b[0m\u001b[1;33m.\u001b[0m\u001b[0mIncrementalDecoder\u001b[0m\u001b[1;33m)\u001b[0m\u001b[1;33m:\u001b[0m\u001b[1;33m\u001b[0m\u001b[1;33m\u001b[0m\u001b[0m\n\u001b[0;32m     22\u001b[0m     \u001b[1;32mdef\u001b[0m \u001b[0mdecode\u001b[0m\u001b[1;33m(\u001b[0m\u001b[0mself\u001b[0m\u001b[1;33m,\u001b[0m \u001b[0minput\u001b[0m\u001b[1;33m,\u001b[0m \u001b[0mfinal\u001b[0m\u001b[1;33m=\u001b[0m\u001b[1;32mFalse\u001b[0m\u001b[1;33m)\u001b[0m\u001b[1;33m:\u001b[0m\u001b[1;33m\u001b[0m\u001b[1;33m\u001b[0m\u001b[0m\n\u001b[1;32m---> 23\u001b[1;33m         \u001b[1;32mreturn\u001b[0m \u001b[0mcodecs\u001b[0m\u001b[1;33m.\u001b[0m\u001b[0mcharmap_decode\u001b[0m\u001b[1;33m(\u001b[0m\u001b[0minput\u001b[0m\u001b[1;33m,\u001b[0m\u001b[0mself\u001b[0m\u001b[1;33m.\u001b[0m\u001b[0merrors\u001b[0m\u001b[1;33m,\u001b[0m\u001b[0mdecoding_table\u001b[0m\u001b[1;33m)\u001b[0m\u001b[1;33m[\u001b[0m\u001b[1;36m0\u001b[0m\u001b[1;33m]\u001b[0m\u001b[1;33m\u001b[0m\u001b[1;33m\u001b[0m\u001b[0m\n\u001b[0m\u001b[0;32m     24\u001b[0m \u001b[1;33m\u001b[0m\u001b[0m\n\u001b[0;32m     25\u001b[0m \u001b[1;32mclass\u001b[0m \u001b[0mStreamWriter\u001b[0m\u001b[1;33m(\u001b[0m\u001b[0mCodec\u001b[0m\u001b[1;33m,\u001b[0m\u001b[0mcodecs\u001b[0m\u001b[1;33m.\u001b[0m\u001b[0mStreamWriter\u001b[0m\u001b[1;33m)\u001b[0m\u001b[1;33m:\u001b[0m\u001b[1;33m\u001b[0m\u001b[1;33m\u001b[0m\u001b[0m\n",
      "\u001b[1;31mUnicodeDecodeError\u001b[0m: 'charmap' codec can't decode byte 0x8d in position 7834: character maps to <undefined>"
     ]
    }
   ],
   "source": [
    "train_dict = {}\n",
    "\n",
    "count = 0\n",
    "\n",
    "for line in training:\n",
    "    count += 1\n",
    "    print(count)\n",
    "    train_dict[count] = list(line)\n",
    "    \n",
    "\n",
    "print(count)"
   ]
  },
  {
   "cell_type": "code",
   "execution_count": 30,
   "id": "8e3f129d",
   "metadata": {},
   "outputs": [
    {
     "ename": "TypeError",
     "evalue": "the JSON object must be str, bytes or bytearray, not TextIOWrapper",
     "output_type": "error",
     "traceback": [
      "\u001b[1;31m---------------------------------------------------------------------------\u001b[0m",
      "\u001b[1;31mTypeError\u001b[0m                                 Traceback (most recent call last)",
      "\u001b[1;32m<ipython-input-30-deff3a6efe67>\u001b[0m in \u001b[0;36m<module>\u001b[1;34m\u001b[0m\n\u001b[0;32m      3\u001b[0m \u001b[0mfileObject\u001b[0m \u001b[1;33m=\u001b[0m \u001b[0mopen\u001b[0m\u001b[1;33m(\u001b[0m\u001b[1;34m\"train.jsonl\"\u001b[0m\u001b[1;33m,\u001b[0m \u001b[1;34m\"r\"\u001b[0m\u001b[1;33m)\u001b[0m\u001b[1;33m\u001b[0m\u001b[1;33m\u001b[0m\u001b[0m\n\u001b[0;32m      4\u001b[0m \u001b[1;31m#jsonContent = fileObject.read()\u001b[0m\u001b[1;33m\u001b[0m\u001b[1;33m\u001b[0m\u001b[1;33m\u001b[0m\u001b[0m\n\u001b[1;32m----> 5\u001b[1;33m \u001b[0maList\u001b[0m \u001b[1;33m=\u001b[0m \u001b[0mjson\u001b[0m\u001b[1;33m.\u001b[0m\u001b[0mloads\u001b[0m\u001b[1;33m(\u001b[0m\u001b[0mfileObject\u001b[0m\u001b[1;33m)\u001b[0m\u001b[1;33m\u001b[0m\u001b[1;33m\u001b[0m\u001b[0m\n\u001b[0m\u001b[0;32m      6\u001b[0m \u001b[0mprint\u001b[0m\u001b[1;33m(\u001b[0m\u001b[0maList\u001b[0m\u001b[1;33m)\u001b[0m\u001b[1;33m\u001b[0m\u001b[1;33m\u001b[0m\u001b[0m\n\u001b[0;32m      7\u001b[0m \u001b[0mprint\u001b[0m\u001b[1;33m(\u001b[0m\u001b[0maList\u001b[0m\u001b[1;33m[\u001b[0m\u001b[1;34m'a'\u001b[0m\u001b[1;33m]\u001b[0m\u001b[1;33m)\u001b[0m\u001b[1;33m\u001b[0m\u001b[1;33m\u001b[0m\u001b[0m\n",
      "\u001b[1;32m~\\anaconda3\\lib\\json\\__init__.py\u001b[0m in \u001b[0;36mloads\u001b[1;34m(s, cls, object_hook, parse_float, parse_int, parse_constant, object_pairs_hook, **kw)\u001b[0m\n\u001b[0;32m    339\u001b[0m     \u001b[1;32melse\u001b[0m\u001b[1;33m:\u001b[0m\u001b[1;33m\u001b[0m\u001b[1;33m\u001b[0m\u001b[0m\n\u001b[0;32m    340\u001b[0m         \u001b[1;32mif\u001b[0m \u001b[1;32mnot\u001b[0m \u001b[0misinstance\u001b[0m\u001b[1;33m(\u001b[0m\u001b[0ms\u001b[0m\u001b[1;33m,\u001b[0m \u001b[1;33m(\u001b[0m\u001b[0mbytes\u001b[0m\u001b[1;33m,\u001b[0m \u001b[0mbytearray\u001b[0m\u001b[1;33m)\u001b[0m\u001b[1;33m)\u001b[0m\u001b[1;33m:\u001b[0m\u001b[1;33m\u001b[0m\u001b[1;33m\u001b[0m\u001b[0m\n\u001b[1;32m--> 341\u001b[1;33m             raise TypeError(f'the JSON object must be str, bytes or bytearray, '\n\u001b[0m\u001b[0;32m    342\u001b[0m                             f'not {s.__class__.__name__}')\n\u001b[0;32m    343\u001b[0m         \u001b[0ms\u001b[0m \u001b[1;33m=\u001b[0m \u001b[0ms\u001b[0m\u001b[1;33m.\u001b[0m\u001b[0mdecode\u001b[0m\u001b[1;33m(\u001b[0m\u001b[0mdetect_encoding\u001b[0m\u001b[1;33m(\u001b[0m\u001b[0ms\u001b[0m\u001b[1;33m)\u001b[0m\u001b[1;33m,\u001b[0m \u001b[1;34m'surrogatepass'\u001b[0m\u001b[1;33m)\u001b[0m\u001b[1;33m\u001b[0m\u001b[1;33m\u001b[0m\u001b[0m\n",
      "\u001b[1;31mTypeError\u001b[0m: the JSON object must be str, bytes or bytearray, not TextIOWrapper"
     ]
    }
   ],
   "source": [
    "import json\n",
    "\n",
    "fileObject = open(\"train.jsonl\", \"r\")\n",
    "jsonContent = fileObject.read()\n",
    "aList = json.loads(jsonContent)\n",
    "print(aList)\n",
    "print(aList['a'])\n",
    "print(aList['b'])\n",
    "print(aList['c'])"
   ]
  },
  {
   "cell_type": "code",
   "execution_count": null,
   "id": "61d177a7",
   "metadata": {},
   "outputs": [],
   "source": []
  }
 ],
 "metadata": {
  "kernelspec": {
   "display_name": "Python 3",
   "language": "python",
   "name": "python3"
  },
  "language_info": {
   "codemirror_mode": {
    "name": "ipython",
    "version": 3
   },
   "file_extension": ".py",
   "mimetype": "text/x-python",
   "name": "python",
   "nbconvert_exporter": "python",
   "pygments_lexer": "ipython3",
   "version": "3.8.8"
  }
 },
 "nbformat": 4,
 "nbformat_minor": 5
}
